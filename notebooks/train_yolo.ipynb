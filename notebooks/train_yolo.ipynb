{
 "cells": [
  {
   "cell_type": "code",
   "execution_count": 4,
   "metadata": {},
   "outputs": [
    {
     "name": "stdout",
     "output_type": "stream",
     "text": [
      "🟢 Train Images: 897\n",
      "🔵 Validation Images: 84\n",
      "🟠 Test Images: 43\n"
     ]
    }
   ],
   "source": [
    "import os\n",
    "\n",
    "# Use raw strings (r\"...\") to prevent backslash issues\n",
    "train_images = len(os.listdir(r\"D:\\Canada\\Subjects\\Semester -1\\AIDI 1003_01_CAPSTONE TERM 1\\Cosmic navigators\\dataset\\train_augmented\\images\"))\n",
    "valid_images = len(os.listdir(r\"D:\\Canada\\Subjects\\Semester -1\\AIDI 1003_01_CAPSTONE TERM 1\\Cosmic navigators\\dataset\\valid_augmented\\images\"))  # Fixed missing backslash\n",
    "test_images = len(os.listdir(r\"D:\\Canada\\Subjects\\Semester -1\\AIDI 1003_01_CAPSTONE TERM 1\\Cosmic navigators\\dataset\\test\\images\"))  # Fixed wrong separator\n",
    "\n",
    "print(f\"🟢 Train Images: {train_images}\")\n",
    "print(f\"🔵 Validation Images: {valid_images}\")\n",
    "print(f\"🟠 Test Images: {test_images}\")\n"
   ]
  },
  {
   "cell_type": "code",
   "execution_count": null,
   "metadata": {},
   "outputs": [],
   "source": []
  }
 ],
 "metadata": {
  "kernelspec": {
   "display_name": "base",
   "language": "python",
   "name": "python3"
  },
  "language_info": {
   "codemirror_mode": {
    "name": "ipython",
    "version": 3
   },
   "file_extension": ".py",
   "mimetype": "text/x-python",
   "name": "python",
   "nbconvert_exporter": "python",
   "pygments_lexer": "ipython3",
   "version": "3.12.7"
  }
 },
 "nbformat": 4,
 "nbformat_minor": 2
}
